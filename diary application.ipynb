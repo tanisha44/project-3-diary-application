{
 "cells": [
  {
   "cell_type": "code",
   "execution_count": null,
   "id": "aa04c3d1-6d36-4680-9b81-f9035be182b7",
   "metadata": {},
   "outputs": [],
   "source": [
    "import datetime\n",
    "import os\n",
    "import tkinter as tk\n",
    "def create_directory():\n",
    "    current_date = datetime.date.today()\n",
    "    directory_name = current_date.strftime('%Y-%m-%d')\n",
    "    if not os.path.exists(directory_name):\n",
    "        os.mkdir(directory_name)\n",
    "def save_entry():\n",
    "    current_date_time = datetime.datetime.now()\n",
    "    file_name = current_date_time.strftime('%Y-%m-%d %H-%M-%S')\n",
    "    entry = text_entry.get('1.0', 'end-1c')\n",
    "    directory_name = current_date_time.strftime('%Y-%m-%d')\n",
    "    file_path = os.path.join(directory_name, file_name + '.txt')\n",
    "    with open(file_path, 'w') as file:\n",
    "        file.write(entry)\n",
    "root = tk.Tk()\n",
    "root.title('Diary')\n",
    "\n",
    "text_entry = tk.Text(root, height=20, width=50)\n",
    "text_entry.pack()\n",
    "\n",
    "save_button = tk.Button(root, text='Save', command=save_entry)\n",
    "save_button.pack()\n",
    "\n",
    "quit_button = tk.Button(root, text='Quit', command=root.quit)\n",
    "quit_button.pack()\n",
    "\n",
    "create_directory()\n",
    "\n",
    "root.mainloop()"
   ]
  },
  {
   "cell_type": "code",
   "execution_count": null,
   "id": "f48c8745-1ccb-482b-b7a0-b7dd5d43e436",
   "metadata": {},
   "outputs": [],
   "source": []
  }
 ],
 "metadata": {
  "kernelspec": {
   "display_name": "Python 3 (ipykernel)",
   "language": "python",
   "name": "python3"
  },
  "language_info": {
   "codemirror_mode": {
    "name": "ipython",
    "version": 3
   },
   "file_extension": ".py",
   "mimetype": "text/x-python",
   "name": "python",
   "nbconvert_exporter": "python",
   "pygments_lexer": "ipython3",
   "version": "3.12.5"
  }
 },
 "nbformat": 4,
 "nbformat_minor": 5
}
